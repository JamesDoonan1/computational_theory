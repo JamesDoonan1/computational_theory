{
 "cells": [
  {
   "cell_type": "markdown",
   "metadata": {},
   "source": [
    "# 🧮 Computational Theory - 2025 Assessment\n",
    "## 📁 `tasks.ipynb` - Computational Theory Notebook\n",
    "\n",
    "**Module:** Computational Theory  \n",
    "**Year:** 2025  \n",
    "**Author:** *James Doonan*  \n",
    "**Repository:** *https://github.com/JamesDoonan1/computational_theory*  \n",
    "**Submission Deadline:** 🗓 **Sunday, 4 May 2025**  \n",
    "\n",
    "---\n",
    "\n",
    "## 📜 **Assessment Overview**\n",
    "This Jupyter Notebook contains solutions to the **Computational Theory** assessment tasks. Each task is clearly labeled, documented, and implemented according to the **module requirements**.\n",
    "\n",
    "### 📑 **Contents**\n",
    "🔹 [Task 1: Binary Representations](#task-1-binary-representations)  \n",
    "🔹 [Task 2: Hash Functions](#task-2-hash-functions)  \n",
    "🔹 [Task 3: SHA256 Padding](#task-3-sha256-padding)  \n",
    "🔹 [Task 4: Prime Numbers](#task-4-prime-numbers)  \n",
    "🔹 [Task 5: Roots](#task-5-roots)  \n",
    "🔹 [Task 6: Proof of Work](#task-6-proof-of-work)  \n",
    "🔹 [Task 7: Turing Machine](#task-7-turing-machine)  \n",
    "🔹 [Task 8: Computational Complexity](#task-8-computational-complexity)  \n",
    "\n",
    "---\n",
    "\n",
    "## ⚡ **Instructions for this Notebook**\n",
    "- Each **task** is implemented in a separate section.\n",
    "- The notebook follows a **structured format**:\n",
    "  - **📌 Task Introduction:** Description of the problem.\n",
    "  - **📝 Code Implementation:** Python solutions with explanations.\n",
    "  - **🛠️ Testing & Validation:** Demonstrating correctness.\n",
    "- Code follows **PEP8 standards** for readability.\n",
    "- Markdown cells provide **explanations, research, and insights**.\n",
    "\n",
    "---\n"
   ]
  },
  {
   "cell_type": "markdown",
   "metadata": {},
   "source": [
    "# 🛠 Task 1: Binary Representations\n",
    "## 🔹 Rotations, Choice, and Majority Functions\n",
    "\n",
    "This task implements **bitwise operations** on **32-bit unsigned integers** commonly used in **cryptography**.\n",
    "\n",
    "### ✅ Functions Implemented:\n",
    "1. **`rotl(x, n=1)`** – Rotate bits **left**.\n",
    "2. **`rotr(x, n=1)`** – Rotate bits **right**.\n",
    "3. **`ch(x, y, z)`** – Bitwise choice function.\n",
    "4. **`maj(x, y, z)`** – Bitwise majority function.\n",
    "\n",
    "### 🔹 Key Considerations:\n",
    "- Operate within **32-bit unsigned integer space**.\n",
    "- **Use bitwise operators** (`&`, `|`, `^`, `~`).\n",
    "- Ensure results **wrap around correctly** using `& 0xFFFFFFFF`.\n",
    "\n",
    "---\n"
   ]
  },
  {
   "cell_type": "code",
   "execution_count": null,
   "metadata": {},
   "outputs": [
    {
     "name": "stdout",
     "output_type": "stream",
     "text": [
      "ROTL(0x12345678, 4) -> 0X23456781\n"
     ]
    }
   ],
   "source": [
    "# Function: Rotate left (ROTL)\n",
    "def rotl(x: int, n: int =1) -> int:\n",
    "    \"\"\"\n",
    "    Rotates a 32-bit integer left by n positions.  \n",
    "\n",
    "    Parameters:\n",
    "    x (int) : 32-bit integer to rotate  \n",
    "    n (int) : Number of positions to rotate left (default 1)  \n",
    "\n",
    "    Returns:\n",
    "    int : 32-bit integer rotated left by n positions\n",
    "\n",
    "    \"\"\"\n",
    "    return ((x << n) & 0xFFFFFFFF) | (x >> (32 - n))\n",
    "\n",
    "# Example Usage  \n",
    "example_value = 0x12345678 # example value to rotate\n",
    "rot1_result = rotl(example_value, 4) # rotate left by 4 positions\n",
    "print(f\"ROTL(0x12345678, 4) -> {rot1_result:#010X}\") # expected result: 0x23456781\n"
   ]
  },
  {
   "cell_type": "code",
   "execution_count": null,
   "metadata": {},
   "outputs": [
    {
     "name": "stdout",
     "output_type": "stream",
     "text": [
      "ROTR(0x12345678, 4) -> 0X81234567\n"
     ]
    }
   ],
   "source": [
    "# Function: Rotate right (ROTR)\n",
    "def rotr(x: int, n: int =1) -> int:\n",
    "    \"\"\"\n",
    "    Rotates a 32-bit integer right by n positions.  \n",
    "\n",
    "    Parameters:\n",
    "    x (int) : 32-bit integer to rotate  \n",
    "    n (int) : Number of positions to rotate right (default: 1)  \n",
    "\n",
    "    Returns:\n",
    "    int : 32-bit integer rotated right by n positions\n",
    "\n",
    "    \"\"\"\n",
    "    return ((x >> n) | (x << (32 - n))) & 0xFFFFFFFF \n",
    "\n",
    "# Example Usage  \n",
    "example_value = 0x12345678 # example value to rotate\n",
    "rotr_result = rotr(example_value, 4) # rotate left by 4 positions\n",
    "print(f\"ROTR(0x12345678, 4) -> {rotr_result:#010X}\") # expected result: 0x23456781\n"
   ]
  },
  {
   "cell_type": "code",
   "execution_count": 5,
   "metadata": {},
   "outputs": [
    {
     "name": "stdout",
     "output_type": "stream",
     "text": [
      "CH(x, y, z) -> 00a5a5a5a5\n"
     ]
    }
   ],
   "source": [
    "def ch(x: int, y: int, z: int) -> int:\n",
    "    \"\"\"\n",
    "    Choice bits from y where x has bits set to 1,\n",
    "    and bits from z whee x has bits set to 0.  \n",
    "\n",
    "    Parameters:\n",
    "    x (int) : Control bits.  \n",
    "    y (int) : First input.  \n",
    "    z (int) : Second input.  \n",
    "\n",
    "    Returns:\n",
    "    int : The result of the choice operation.  \n",
    "\n",
    "    \"\"\"\n",
    "    return (x & y) ^ (~x & z) # If x is 1, take y, otherwise take z\n",
    "\n",
    "x = 0b10101010101010101010101010101010  # Binary control mask\n",
    "y = 0b11110000111100001111000011110000  # Option 1\n",
    "z = 0b00001111000011110000111100001111  # Option 2\n",
    "\n",
    "ch_result = ch(x, y, z)\n",
    "\n",
    "print(f\"CH(x, y, z) -> {ch_result:010x}\") # expected output: 00a5a5a5a5"
   ]
  },
  {
   "cell_type": "code",
   "execution_count": 8,
   "metadata": {},
   "outputs": [
    {
     "name": "stdout",
     "output_type": "stream",
     "text": [
      "MAJ(x, y, z) -> 0xaaaaaaaa\n"
     ]
    }
   ],
   "source": [
    "def maj(x: int, y: int, z: int) -> int:\n",
    "    \"\"\"\n",
    "    Majority bits from x, y, and z.  \n",
    "\n",
    "    Parameters:\n",
    "    x (int) : First input.  \n",
    "    y (int) : Second input.  \n",
    "    z (int) : Third input.  \n",
    "\n",
    "    Returns:\n",
    "    int : The result of the majority operation.  \n",
    "\n",
    "    \"\"\"\n",
    "    return (x & y) ^ (x & z) ^ (y & z) # Majority of bits\n",
    "\n",
    "# ✅ Example Usage\n",
    "x = 0b10101010101010101010101010101010  # Example binary value\n",
    "y = 0b11110000111100001111000011110000  # Example binary value\n",
    "z = 0b00001111000011110000111100001111  # Example binary value\n",
    "\n",
    "maj_result = maj(x, y, z)\n",
    "\n",
    "# Print results in hexadecimal format\n",
    "print(f\"MAJ(x, y, z) -> {maj_result:#010x}\") # expected output varies based on inputs\n"
   ]
  },
  {
   "cell_type": "markdown",
   "metadata": {},
   "source": [
    "# Task 2 Hash Functions  \n",
    "\n",
    "## Problem Statement  \n",
    "Convert the following **C-based hash function** into python, test it and analyze why **31 and *101 were used as constants.  \n",
    "\n",
    "### Given C Code:\n",
    "```c\n",
    "unsigned hash(char *s) {\n",
    "    unsigned hashval;\n",
    "    for (hashval = 0; *s != '\\0'; s++)\n",
    "        hashval = *s + 31 * hashval;\n",
    "    return hashval % 101;\n",
    "}\n"
   ]
  },
  {
   "cell_type": "code",
   "execution_count": 2,
   "metadata": {},
   "outputs": [
    {
     "name": "stdout",
     "output_type": "stream",
     "text": [
      "Hash'(H) -> 72\n",
      "Hash'(e) -> 0\n",
      "Hash'(l) -> 7\n",
      "Hash'(l) -> 7\n",
      "Hash'(o) -> 10\n",
      "Hash'(,) -> 44\n",
      "Hash'( ) -> 32\n",
      "Hash'(W) -> 87\n",
      "Hash'(o) -> 10\n",
      "Hash'(r) -> 13\n",
      "Hash'(l) -> 7\n",
      "Hash'(d) -> 100\n",
      "Hash'(!) -> 33\n"
     ]
    }
   ],
   "source": [
    "def kr_hash(s: str) -> int:\n",
    "    \"\"\"\n",
    "    Computes a hash for a given string using the method from \n",
    "    Kernighan and Ritchie's \"The C Programming Language\".  \n",
    "\n",
    "    Parameters:\n",
    "    s (str) : The input string.\n",
    "\n",
    "    Returns:\n",
    "    int : The computed hash value.\n",
    "    \"\"\"  \n",
    "    hashval = 0\n",
    "    for char in s:\n",
    "        hashval = ord(char) + 31 * hashval # Compute hash using ASCII values\n",
    "    return hashval % 101 # Return hash value modulo 101\n",
    "\n",
    "# Example Usage & Test\n",
    "test_string = \"Hello, World!\"\n",
    "for s in test_string:\n",
    "    print(f\"Hash'({s}) -> {kr_hash(s)}\") \n"
   ]
  }
 ],
 "metadata": {
  "kernelspec": {
   "display_name": "Python 3",
   "language": "python",
   "name": "python3"
  },
  "language_info": {
   "codemirror_mode": {
    "name": "ipython",
    "version": 3
   },
   "file_extension": ".py",
   "mimetype": "text/x-python",
   "name": "python",
   "nbconvert_exporter": "python",
   "pygments_lexer": "ipython3",
   "version": "3.12.2"
  }
 },
 "nbformat": 4,
 "nbformat_minor": 2
}
