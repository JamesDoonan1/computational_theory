{
 "cells": [
  {
   "cell_type": "markdown",
   "metadata": {},
   "source": [
    "# 🧮 Computational Theory - 2025 Assessment\n",
    "## 📁 `tasks.ipynb` - Computational Theory Notebook\n",
    "\n",
    "**Module:** Computational Theory  \n",
    "**Year:** 2025  \n",
    "**Author:** *James Doonan*  \n",
    "**Repository:** *https://github.com/JamesDoonan1/computational_theory*  \n",
    "**Submission Deadline:** 🗓 **Sunday, 4 May 2025**  \n",
    "\n",
    "---\n",
    "\n",
    "## 📜 **Assessment Overview**\n",
    "This Jupyter Notebook contains solutions to the **Computational Theory** assessment tasks. Each task is clearly labeled, documented, and implemented according to the **module requirements**.\n",
    "\n",
    "### 📑 **Contents**\n",
    "🔹 [Task 1: Binary Representations](#task-1-binary-representations)  \n",
    "🔹 [Task 2: Hash Functions](#task-2-hash-functions)  \n",
    "🔹 [Task 3: SHA256 Padding](#task-3-sha256-padding)  \n",
    "🔹 [Task 4: Prime Numbers](#task-4-prime-numbers)  \n",
    "🔹 [Task 5: Roots](#task-5-roots)  \n",
    "🔹 [Task 6: Proof of Work](#task-6-proof-of-work)  \n",
    "🔹 [Task 7: Turing Machine](#task-7-turing-machine)  \n",
    "🔹 [Task 8: Computational Complexity](#task-8-computational-complexity)  \n",
    "\n",
    "---\n",
    "\n",
    "## ⚡ **Instructions for this Notebook**\n",
    "- Each **task** is implemented in a separate section.\n",
    "- The notebook follows a **structured format**:\n",
    "  - **📌 Task Introduction:** Description of the problem.\n",
    "  - **📝 Code Implementation:** Python solutions with explanations.\n",
    "  - **🛠️ Testing & Validation:** Demonstrating correctness.\n",
    "- Code follows **PEP8 standards** for readability.\n",
    "- Markdown cells provide **explanations, research, and insights**.\n",
    "\n",
    "---\n"
   ]
  },
  {
   "cell_type": "markdown",
   "metadata": {},
   "source": [
    "# 🛠 Task 1: Binary Representations\n",
    "## 🔹 Rotations, Choice, and Majority Functions\n",
    "\n",
    "This task implements **bitwise operations** on **32-bit unsigned integers** commonly used in **cryptography**.\n",
    "\n",
    "### ✅ Functions Implemented:\n",
    "1. **`rotl(x, n=1)`** – Rotate bits **left**.\n",
    "2. **`rotr(x, n=1)`** – Rotate bits **right**.\n",
    "3. **`ch(x, y, z)`** – Bitwise choice function.\n",
    "4. **`maj(x, y, z)`** – Bitwise majority function.\n",
    "\n",
    "### 🔹 Key Considerations:\n",
    "- Operate within **32-bit unsigned integer space**.\n",
    "- **Use bitwise operators** (`&`, `|`, `^`, `~`).\n",
    "- Ensure results **wrap around correctly** using `& 0xFFFFFFFF`.\n",
    "\n",
    "---\n"
   ]
  },
  {
   "cell_type": "code",
   "execution_count": 1,
   "metadata": {},
   "outputs": [],
   "source": [
    "import os\n",
    "import struct\n",
    "import random\n",
    "import numpy as np"
   ]
  },
  {
   "cell_type": "code",
   "execution_count": 2,
   "metadata": {},
   "outputs": [
    {
     "name": "stdout",
     "output_type": "stream",
     "text": [
      "ROTL(0x12345678, 4) -> 0X23456781\n"
     ]
    }
   ],
   "source": [
    "# Function: Rotate left (ROTL)\n",
    "def rotl(x: int, n: int =1) -> int:\n",
    "    \"\"\"\n",
    "    Rotates a 32-bit integer left by n positions.  \n",
    "\n",
    "    Parameters:\n",
    "    x (int) : 32-bit integer to rotate  \n",
    "    n (int) : Number of positions to rotate left (default 1)  \n",
    "\n",
    "    Returns:\n",
    "    int : 32-bit integer rotated left by n positions\n",
    "\n",
    "    \"\"\"\n",
    "    return ((x << n) & 0xFFFFFFFF) | (x >> (32 - n))\n",
    "\n",
    "# Example Usage  \n",
    "example_value = 0x12345678 # example value to rotate\n",
    "rot1_result = rotl(example_value, 4) # rotate left by 4 positions\n",
    "print(f\"ROTL(0x12345678, 4) -> {rot1_result:#010X}\") # expected result: 0x23456781\n"
   ]
  },
  {
   "cell_type": "code",
   "execution_count": 3,
   "metadata": {},
   "outputs": [
    {
     "name": "stdout",
     "output_type": "stream",
     "text": [
      "ROTR(0x12345678, 4) -> 0X81234567\n"
     ]
    }
   ],
   "source": [
    "# Function: Rotate right (ROTR)\n",
    "def rotr(x: int, n: int =1) -> int:\n",
    "    \"\"\"\n",
    "    Rotates a 32-bit integer right by n positions.  \n",
    "\n",
    "    Parameters:\n",
    "    x (int) : 32-bit integer to rotate  \n",
    "    n (int) : Number of positions to rotate right (default: 1)  \n",
    "\n",
    "    Returns:\n",
    "    int : 32-bit integer rotated right by n positions\n",
    "\n",
    "    \"\"\"\n",
    "    return ((x >> n) | (x << (32 - n))) & 0xFFFFFFFF \n",
    "\n",
    "# Example Usage  \n",
    "example_value = 0x12345678 # example value to rotate\n",
    "rotr_result = rotr(example_value, 4) # rotate left by 4 positions\n",
    "print(f\"ROTR(0x12345678, 4) -> {rotr_result:#010X}\") # expected result: 0x23456781\n"
   ]
  },
  {
   "cell_type": "code",
   "execution_count": 4,
   "metadata": {},
   "outputs": [
    {
     "name": "stdout",
     "output_type": "stream",
     "text": [
      "CH(x, y, z) -> 00a5a5a5a5\n"
     ]
    }
   ],
   "source": [
    "def ch(x: int, y: int, z: int) -> int:\n",
    "    \"\"\"\n",
    "    Choice bits from y where x has bits set to 1,\n",
    "    and bits from z whee x has bits set to 0.  \n",
    "\n",
    "    Parameters:\n",
    "    x (int) : Control bits.  \n",
    "    y (int) : First input.  \n",
    "    z (int) : Second input.  \n",
    "\n",
    "    Returns:\n",
    "    int : The result of the choice operation.  \n",
    "\n",
    "    \"\"\"\n",
    "    return (x & y) ^ (~x & z) # If x is 1, take y, otherwise take z\n",
    "\n",
    "x = 0b10101010101010101010101010101010  # Binary control mask\n",
    "y = 0b11110000111100001111000011110000  # Option 1\n",
    "z = 0b00001111000011110000111100001111  # Option 2\n",
    "\n",
    "ch_result = ch(x, y, z)\n",
    "\n",
    "print(f\"CH(x, y, z) -> {ch_result:010x}\") # expected output: 00a5a5a5a5"
   ]
  },
  {
   "cell_type": "code",
   "execution_count": 5,
   "metadata": {},
   "outputs": [
    {
     "name": "stdout",
     "output_type": "stream",
     "text": [
      "MAJ(x, y, z) -> 0xaaaaaaaa\n"
     ]
    }
   ],
   "source": [
    "def maj(x: int, y: int, z: int) -> int:\n",
    "    \"\"\"\n",
    "    Majority bits from x, y, and z.  \n",
    "\n",
    "    Parameters:\n",
    "    x (int) : First input.  \n",
    "    y (int) : Second input.  \n",
    "    z (int) : Third input.  \n",
    "\n",
    "    Returns:\n",
    "    int : The result of the majority operation.  \n",
    "\n",
    "    \"\"\"\n",
    "    return (x & y) ^ (x & z) ^ (y & z) # Majority of bits\n",
    "\n",
    "# ✅ Example Usage\n",
    "x = 0b10101010101010101010101010101010  # Example binary value\n",
    "y = 0b11110000111100001111000011110000  # Example binary value\n",
    "z = 0b00001111000011110000111100001111  # Example binary value\n",
    "\n",
    "maj_result = maj(x, y, z)\n",
    "\n",
    "# Print results in hexadecimal format\n",
    "print(f\"MAJ(x, y, z) -> {maj_result:#010x}\") # expected output varies based on inputs\n"
   ]
  },
  {
   "cell_type": "markdown",
   "metadata": {},
   "source": [
    "# Task 2 Hash Functions  \n",
    "\n",
    "## Problem Statement  \n",
    "Convert the following **C-based hash function** into python, test it and analyze why **31 and *101 were used as constants.  \n",
    "\n",
    "### Given C Code:\n",
    "```c\n",
    "unsigned hash(char *s) {\n",
    "    unsigned hashval;\n",
    "    for (hashval = 0; *s != '\\0'; s++)\n",
    "        hashval = *s + 31 * hashval;\n",
    "    return hashval % 101;\n",
    "}\n"
   ]
  },
  {
   "cell_type": "code",
   "execution_count": 6,
   "metadata": {},
   "outputs": [
    {
     "name": "stdout",
     "output_type": "stream",
     "text": [
      "Hash'(hello) -> 17\n",
      "Hash'(world) -> 34\n",
      "Hash'(computational) -> 42\n",
      "Hash'(theory) -> 77\n",
      "Hash'(openai) -> 35\n"
     ]
    }
   ],
   "source": [
    "def kr_hash(s: str) -> int:\n",
    "    \"\"\"\n",
    "    Computes a hash for a given string using the method from \n",
    "    Kernighan and Ritchie's \"The C Programming Language\".  \n",
    "\n",
    "    Parameters:\n",
    "    s (str) : The input string.\n",
    "\n",
    "    Returns:\n",
    "    int : The computed hash value.\n",
    "    \"\"\"  \n",
    "    hashval = 0\n",
    "    for char in s:\n",
    "        hashval = ord(char) + 31 * hashval # Compute hash using ASCII values\n",
    "    return hashval % 101 # Return hash value modulo 101\n",
    "\n",
    "# Example Usage & Test\n",
    "test_strings = [\"hello\", \"world\", \"computational\", \"theory\", \"openai\"]\n",
    "for s in test_strings:\n",
    "    print(f\"Hash'({s}) -> {kr_hash(s)}\") \n"
   ]
  },
  {
   "cell_type": "markdown",
   "metadata": {},
   "source": [
    "## Why use `31` and `101` ?  \n",
    "The hash function in the C code follow a common pattern in hashing, using **prime numbers** to reduce collisions.  \n",
    "\n",
    "### **Why `31`?** \n",
    "- **Prime number**: Helps distribute hash value **evenly** across a range.  \n",
    "- **Efficient multiplication**:  `31` can be computed as ``(x << 5) - x`` (bit shift and subtraction).  \n",
    "- **Commonly used in string hashing** (e.g., Java uses `31` in it's `hashCode()` function). \n",
    "\n",
    "### **Why `101`?**  \n",
    "- **Prime modulus**: Helps ensure a more uniform distribution of hash values.  \n",
    "- **Prevents excessive collisions**: if `101` were a power of 2, the hash function might cause clustering.  \n",
    "\n",
    "Thus `31` and `101` work together to create an **efficient and well-distributed** hash function."
   ]
  },
  {
   "cell_type": "code",
   "execution_count": 7,
   "metadata": {},
   "outputs": [
    {
     "name": "stdout",
     "output_type": "stream",
     "text": [
      "✅ Test passed for 'hello' -> Hash: 17\n",
      "✅ Test passed for 'world' -> Hash: 34\n",
      "✅ Test passed for 'computational' -> Hash: 42\n",
      "✅ Test passed for 'theory' -> Hash: 77\n",
      "✅ Test passed for 'openai' -> Hash: 35\n"
     ]
    }
   ],
   "source": [
    "# Test Case Validation for task 2. \n",
    "def test_kr_hash():\n",
    "    \"\"\"\n",
    "    Run multiple test cases to verify the correctness of the hash function.  \n",
    "    \"\"\"\n",
    "    test_cases = {\n",
    "        \"hello\": kr_hash(\"hello\"),\n",
    "        \"world\": kr_hash(\"world\"),\n",
    "        \"computational\": kr_hash(\"computational\"),\n",
    "        \"theory\": kr_hash(\"theory\"),\n",
    "        \"openai\": kr_hash(\"openai\")\n",
    "    }\n",
    "    for key, expected in test_cases.items():\n",
    "        result = kr_hash(key)\n",
    "        assert result == expected, f\"Test Failed for: {key}: got {result}, expected {expected}\"\n",
    "        print(f\"✅ Test passed for '{key}' -> Hash: {result}\")\n",
    "\n",
    "# Run the test cases\n",
    "test_kr_hash() # All tests pass"
   ]
  },
  {
   "cell_type": "markdown",
   "metadata": {},
   "source": [
    "# 🛠 Task 3: SHA256 Padding\n",
    "## 🔹 Cryptographic padding in SHA256\n",
    "\n",
    "This task implements **SHAS256 passing scheme** which is a critical step in the SHA256 hashing algorithm. The padding makes sure that the input message meets the requirements for processing in 512-bit blocks.\n",
    "\n",
    "### ✅ Problem Statement:  \n",
    "Write a Python function that calculates the SHA256 padding for a given file.  \n",
    "The function should:\n",
    "1. Append a single **1** bit to the message.\n",
    "2. Append enough **0** bits so that the length of the padded message is congruent to 448 modulo 512.\n",
    "3. Append the original length of the message (in bits) as a 64-bit big-endian integer.\n",
    "4. Print the padding in hexadecimal format.\n",
    "\n",
    "### 🔹 Key Considerations:\n",
    "- The input file is read in **binary mode** to handle all types of files (text, images, etc.).\n",
    "- The padding must ensure that the total length of the message (including padding) is a multiple of 512 bits.\n",
    "- The original length of the message is appended as a **64-bit big-endian integer**.  \n",
    "\n",
    "---\n"
   ]
  },
  {
   "cell_type": "code",
   "execution_count": 8,
   "metadata": {},
   "outputs": [
    {
     "name": "stdout",
     "output_type": "stream",
     "text": [
      "SHA256 Padding for 'sample.txt':\n",
      "80 00 00 00 00 00 00 00 00 00 00 00 00 00 00 00 00 00 00 00 00 00 00 00 00 00 00 00 00 00 00 00 00 00 00 00 00 00 00 00 00 00 00 00 00 00 00 00 00 00 00 00 00 00 00 00 00 00 00 00 18\n"
     ]
    }
   ],
   "source": [
    "def sha256_padding(file_path: str):\n",
    "    \"\"\"\n",
    "    Calculate the SHA256 padding for a given file.\n",
    "\n",
    "    Parameters:\n",
    "    file_path (str): Path to the input file.\n",
    "\n",
    "    Returns:\n",
    "    str: The padding in hexadecimal format.\n",
    "    \"\"\"\n",
    "    # Step 1: Read the file as binary data\n",
    "    with open(file_path, \"rb\") as file:\n",
    "        message = file.read()\n",
    "\n",
    "    # Step 2: Calculate the original length of the data in bits\n",
    "    original_length = len(message) * 8\n",
    "\n",
    "    # Step 3: Append a single '1' bit to the message (0x80 in hex) \n",
    "    padded_message = message + b'\\x80'\n",
    "\n",
    "    # Step 4: Append '0' bits until the length in bits is 448 (mod 512)\n",
    "    padding_length = (448 - (original_length + 8) % 512) % 512\n",
    "    padded_message += b'\\x00' * (padding_length // 8)\n",
    "\n",
    "    # Step 5: Append the original length of the message in bits as a 64-bit big-endian integer\n",
    "    padded_message += struct.pack('>Q', original_length) \n",
    "\n",
    "    # Step 6: Return the padded message in hexadecimal format\n",
    "    padding = padded_message[len(message):]\n",
    "    return padding.hex()\n",
    "\n",
    "# Test the function with a sample file\n",
    "# Create a sample file if it does not exist\n",
    "file_path = \"sample.txt\"\n",
    "\n",
    "if not os.path.exists(file_path):\n",
    "    with open(file_path, \"wb\") as file:\n",
    "        file.write(b\"abc\") # Binary mode ensures correct encoding\n",
    "\n",
    "# Calculate the SHA256 padding\n",
    "padding_hex = sha256_padding(file_path)\n",
    "\n",
    "# Format the hex string into space-separated bytes (2 characters each)\n",
    "formatted_padding = \" \".join(padding_hex[i:i+2] for i in range(0, len(padding_hex), 2))\n",
    "\n",
    "# Print in the expected format\n",
    "print(f\"SHA256 Padding for '{file_path}':\\n{formatted_padding}\")\n",
    "\n"
   ]
  },
  {
   "cell_type": "markdown",
   "metadata": {},
   "source": [
    "# 🛠 Task 4: Prime Numbers  \n",
    "## 🔹 Calculating the First 100 Prime Numbers  \n",
    "\n",
    "This task involves calculating the first 100 prime numbers using **two different algorithms**:  \n",
    "1. **Miller-Rabin Primality Test** – A probabilistic test that is highly efficient for large numbers.   \n",
    "2. **Trial Division with Square Root Optimisation** – A deterministic method that checks divisibility up to the square root of a number. \n",
    "\n",
    "### ✅ Problem Statement  \n",
    "Calculate the first 100 prime numbers using two different algorithms. Explain how the algorithms work and compare their performance.  \n",
    "\n",
    "---  \n",
    "\n",
    "### 🔹 Algorithm 1: Miller-Rabin Primality Test  \n",
    "\n",
    "### Justification of choice  \n",
    "The **Miller-Rabin primality test** is a probabilistic algorithm to determine if a number is prime. It is based on the properties of **strong pseudoprimes** and is highly efficient for large numbers. Although it is used primarily with large prime numbers, I found the algorithm pretty interesting and I also felt it was different to standard algorithms. I'm aware it is a probabilistic algorithm which means it is not ideal for generating the first 100 prime numbers because it is a **probabilistic** test, not a **deterministic** method for listing primes. I know  it is not designed for sequential prime generation. I was interested to see if I could get it working. \n",
    "\n",
    "#### Steps:  \n",
    "1. **Decompose `n`:** Write `n` as `d * 2^r + 1`, where `d` is odd.  \n",
    "2. **Choose Bases:** Select a set of bases (e.g., 2, 3, 5, 7, etc.) for testing.  \n",
    "3. **Check Composite:** For each base, check if it satisfies certain conditions that imply `n` is composite.  \n",
    "4. **Repeat:** Perform the test `k` times to reduce the probability of error.  \n",
    "\n",
    "#### Advantages:  \n",
    "- **Efficient:** Works well for large numbers.  \n",
    "- **Probabilistic:** Can be made deterministic for numbers less than 2^64.  \n",
    "\n",
    "#### Disadvantages:  \n",
    "- **Probabilistic:** Small chance of false positives (though negligible for practical purposes).  \n",
    "---  "
   ]
  },
  {
   "cell_type": "markdown",
   "metadata": {},
   "source": [
    "\n",
    "#### 🛠 Function Description\n",
    "####  `miller_rabin(n, k=5)`\n",
    "\n",
    "#### 🔹 Purpose\n",
    "This function performs the **Miller-Rabin primality test** to determine if a number `n` is prime. It’s a probabilistic test but can be made deterministic for numbers less than 2^64.\n",
    "\n",
    "##### 🔹 Steps\n",
    "1. **Handle Edge Cases:**\n",
    "   - If `n < 2`, return `False` (not prime).\n",
    "   - If `n` is 2 or 3, return `True` (prime).\n",
    "   - If `n` is even, return `False` (not prime).\n",
    "\n",
    "2. **Decompose `n`:**\n",
    "   - Write `n` as `n = 2^r * d + 1`, where `d` is odd.\n",
    "\n",
    "3. **Choose Bases:**\n",
    "   - For numbers ≤ 2^64, use a deterministic set of bases (2, 3, 5, etc.).\n",
    "   - For larger numbers, use `k` random bases.\n",
    "\n",
    "4. **Check Composite:**\n",
    "   - For each base, check if `n` is composite using the `check_composite` function.\n",
    "   - If `n` is composite for any base, return `False`.\n",
    "   - If `n` passes all tests, return `True` (likely prime)."
   ]
  },
  {
   "cell_type": "code",
   "execution_count": 9,
   "metadata": {},
   "outputs": [],
   "source": [
    "def miller_rabin(n, k=5):\n",
    "    \"\"\"\n",
    "    Perform the Miller-Rabin primality test on n with k iterations.\n",
    "    This is a probabilistic test but can be made deterministic for small numbers.\n",
    "    \"\"\"\n",
    "    if n < 2:\n",
    "        return False\n",
    "    if n in {2, 3}:\n",
    "        return True\n",
    "    if n % 2 == 0:\n",
    "        return False\n",
    "\n",
    "    # Write n as 2^r * d + 1 with d odd\n",
    "    r, d = 0, n - 1\n",
    "    while d % 2 == 0:\n",
    "        r += 1\n",
    "        d //= 2\n",
    "\n",
    "    # Deterministic bases for numbers <= 2^64\n",
    "    bases = [2, 3, 5, 7, 11, 13, 17, 19, 23, 29, 31, 37, 41]\n",
    "    if n < 2**64:\n",
    "        bases = [b for b in bases if b < n]\n",
    "    else:\n",
    "        bases = [random.sample(range(2, n-1), k)] # Random bases for large numbers\n",
    "\n",
    "    def check_composite(a, d, n, r):\n",
    "        \"\"\"\n",
    "        Check if n is composite using the Miller-Rabin test with witness a.\n",
    "        \"\"\"\n",
    "        x = pow(a, d, n)\n",
    "        if x == 1 or x == n - 1:\n",
    "            return False\n",
    "        for _ in range(r - 1):\n",
    "            x = pow(x, 2, n)\n",
    "            if x == n - 1:\n",
    "                return False\n",
    "        return True\n",
    "    \n",
    "    for base in bases:\n",
    "                if check_composite(base, d, n, r):\n",
    "                    return False\n",
    "    return True\n",
    "        "
   ]
  },
  {
   "cell_type": "markdown",
   "metadata": {},
   "source": [
    "#### 🛠 `optimised_miller_rabin_primes(count)`\n",
    "\n",
    "#### 🔹 Purpose\n",
    "This function generates the first `count` prime numbers using the **Miller-Rabin primality test**..."
   ]
  },
  {
   "cell_type": "code",
   "execution_count": 10,
   "metadata": {},
   "outputs": [],
   "source": [
    "def optimised_miller_rabin_primes(count):\n",
    "    \"\"\"\n",
    "    Generate a list of prime numbers using the Miller-Rabin primality test.\n",
    "    \"\"\"\n",
    "    primes = []\n",
    "    num = 2  # Start checking from the first prime\n",
    "    \n",
    "    while len(primes) < count:\n",
    "        if miller_rabin(num):\n",
    "            primes.append(num)\n",
    "        num += 1 if num == 2 else 2  # Skip even numbers after 2\n",
    "    \n",
    "    return primes[:count]"
   ]
  },
  {
   "cell_type": "code",
   "execution_count": 11,
   "metadata": {},
   "outputs": [
    {
     "name": "stdout",
     "output_type": "stream",
     "text": [
      "First 100 prime numbers:\n",
      "[2, 3, 5, 7, 11, 13, 17, 19, 23, 29, 31, 37, 41, 43, 47, 53, 59, 61, 67, 71, 73, 79, 83, 89, 97, 101, 103, 107, 109, 113, 127, 131, 137, 139, 149, 151, 157, 163, 167, 173, 179, 181, 191, 193, 197, 199, 211, 223, 227, 229, 233, 239, 241, 251, 257, 263, 269, 271, 277, 281, 283, 293, 307, 311, 313, 317, 331, 337, 347, 349, 353, 359, 367, 373, 379, 383, 389, 397, 401, 409, 419, 421, 431, 433, 439, 443, 449, 457, 461, 463, 467, 479, 487, 491, 499, 503, 509, 521, 523, 541]\n"
     ]
    }
   ],
   "source": [
    "# Generate the first 100 prime numbers\n",
    "first_100_primes = optimised_miller_rabin_primes(100)\n",
    "print(\"First 100 prime numbers:\")\n",
    "print(first_100_primes)"
   ]
  },
  {
   "cell_type": "markdown",
   "metadata": {},
   "source": [
    "### 🔹 Algorithm 2: Square Root Optimisation\n",
    "\n",
    "### Justification of choice \n",
    "The **square root optimisation** is a deterministic method for checking primality. It works by testing divisibility up to the square root of the number. I chose this for its simplicity and efficiency. It provides a definite answer (no probabilistic uncertainty) and is efficient for small numbers. **In our notes** you can see this:\n",
    "\n",
    " \n",
    "**Square root test for primality.**  \n",
    "```\n",
    "def isprime_sqrt(n):  \n",
    "        Test whether n is prime.    \n",
    "        Loop through 2...floor(sqrt(n)).  \n",
    "        for i in range(2, np.floor(np.sqrt(n)).astype(int) + 1):   \n",
    "            # Calculate remainder of n divided by i.  \n",
    "            if n % i == 0:  \n",
    "                If this is zero, then n is not prime.  \n",
    "                return False  \n",
    "        If we get here, then n is prime.   \n",
    "        return True   \n",
    "``` \n",
    " \n",
    "\n",
    "This uses the concept of optimising primality testing by checking divisibility only up to the **square root of a number** It is based on the observation that if a number `n` is composite, at least one of it's actors must be less than or equal to `√n`.  \n",
    "So this **influenced my choice** because of:  \n",
    "1. The efficiency of how fast this algorithm is.  \n",
    "2. The description that \"a small factor is balanced by a large factor, and the balance point is the square root\"  \n",
    "3.The algorithm is straight forward to implement and understand    \n",
    "\n",
    "**How I adapted it**  \n",
    "1. Skipping Even Numbers After 2 – Since all even numbers (except 2) are non-prime, we skip them, reducing unnecessary computations.    \n",
    "2. More Efficient Prime Generation – When generating the first n primes, we check divisibility only for previously found primes, avoiding redundant checks  \n",
    "3. Refactored Code for Clarity – The updated function ensures readability while maintaining efficiency.  \n",
    "\n",
    "**The reasoning behind the square root approach can be visualised in our notes:**\n",
    "\n",
    "** FROM THE NOTES - Consider this product of two primes - note that it is not prime.**  \n",
    "\n",
    "``` \n",
    "    n = 17 * 19   \n",
    "    The square root of n.  \n",
    "    np.sqrt(n)  \n",
    "    Output: 17.972\n",
    "\n",
    "    Try all numbers up to the square root.  \n",
    "    for i in range(2, int(np.sqrt(n)) + 1):  \n",
    "        if n % i == 0:  \n",
    "            print(f\"{n} = {i} * {n // i}\")  Factorization check  \n",
    "    Output: 323 = 17 * 19 \n",
    " ``` \n",
    "\n",
    "Source:  https://github.com/ianmcloughlin/computational_theory/blob/main/materials/prime_numbers.ipynb  \n",
    "\n",
    "#### Square Root Optimisation Steps:  \n",
    "1. **Check Divisibility:** For each number `n`, check if it is divisible by any integer from 2 to `√n`.  \n",
    "2. **Skip Even Numbers:** After checking 2, skip all even numbers to improve efficiency.  \n",
    "\n",
    "#### Advantages:  \n",
    "- **Deterministic:** Always provides a correct result.  \n",
    "- **Simple:** Easy to implement and understand.  \n",
    "\n",
    "#### Disadvantages:  \n",
    "- **Inefficient for Large Numbers:** Time complexity is O(√n), making it slow for very large inputs.  \n",
    "\n",
    "---"
   ]
  },
  {
   "cell_type": "code",
   "execution_count": 14,
   "metadata": {},
   "outputs": [],
   "source": [
    "def isprime_sqrt(n: int) -> bool:\n",
    "    \"\"\"\n",
    "    Test whether n is prime using the square root optimization.\n",
    "\n",
    "    Parameters:\n",
    "    n (int): The number to check for primality.\n",
    "\n",
    "    Returns:\n",
    "    bool: True if the number is prime, False otherwise.\n",
    "    \"\"\"  \n",
    "    if n < 2:\n",
    "        return False\n",
    "    for i in range(2,int(np.sqrt(n))+1):\n",
    "        if n % i == 0:\n",
    "            return False\n",
    "    return True"
   ]
  },
  {
   "cell_type": "code",
   "execution_count": 18,
   "metadata": {},
   "outputs": [
    {
     "name": "stdout",
     "output_type": "stream",
     "text": [
      "First 100 primes: [2, 3, 5, 7, 11, 13, 17, 19, 23, 29, 31, 37, 41, 43, 47, 53, 59, 61, 67, 71, 73, 79, 83, 89, 97, 101, 103, 107, 109, 113, 127, 131, 137, 139, 149, 151, 157, 163, 167, 173, 179, 181, 191, 193, 197, 199, 211, 223, 227, 229, 233, 239, 241, 251, 257, 263, 269, 271, 277, 281, 283, 293, 307, 311, 313, 317, 331, 337, 347, 349, 353, 359, 367, 373, 379, 383, 389, 397, 401, 409, 419, 421, 431, 433, 439, 443, 449, 457, 461, 463, 467, 479, 487, 491, 499, 503, 509, 521, 523, 541]\n"
     ]
    }
   ],
   "source": [
    "def first_n_primes(n: int) -> list[int]:\n",
    "    \"\"\"\n",
    "    Find the first n prime numbers using an optimized approach.\n",
    "\n",
    "    Parameters:\n",
    "    n (int): The number of primes to generate.\n",
    "\n",
    "    Returns:\n",
    "    list[int]: A list of the first n prime numbers.\n",
    "    \"\"\"\n",
    "    primes = []\n",
    "    num = 2\n",
    "    while len(primes) < n:\n",
    "        if isprime_sqrt(num):\n",
    "            primes.append(num)\n",
    "        num += 1 if num == 2 else 2 # Skip even numbers after 2\n",
    "    return primes\n",
    "\n",
    "n = 100\n",
    "primes = first_n_primes(n)\n",
    "print(f\"First {n} primes: {primes}\")\n"
   ]
  },
  {
   "cell_type": "markdown",
   "metadata": {},
   "source": [
    "# 🛠 Task 5: Roots  \n",
    "\n",
    "## 🔹 Square Roots in Cryptography  \n",
    "\n",
    "this task implements the computationa of the **first 32 bits of the fractional part of the square roots** of the **first 100 prime numbers**. These values are widely uside in cryptographic has functions as **SHA-256**, when they serve as initalization constants.  \n",
    "\n",
    "### ✅ Problem Statement:  \n",
    "Write a Python function that calculates the **first 32 bits of the fractional part** of the **square root of the first 100 prime numbers**.  \n",
    "\n",
    "The function should:  \n",
    "1. **Find the first 100 prime numbers**.  \n",
    "2. **Compute the square root of each prime**.  \n",
    "3. **Extract the fractional part** (i.e., the part after the decimal point).  \n",
    "4. **Multiply by `2³²` (4294967296) and convert to an integer**.  \n",
    "5. **Print the values in hexadecimal format** for better readability.  \n",
    "\n",
    "\n",
    "### 🔹 Key Considerations:  \n",
    "- The **first 100 primes** are found using a prime- checkinh function. (use from task 4)  \n",
    "- The **fractional part** is extracted using standard floating-point operations.  \n",
    "- The **multiplication  by `2³²` ensures a 32-bit integer representation**.  \n",
    "- The results are printed in **hexadecimal format** for clarity and comparison with cryptographic constants.  \n",
    "\n",
    "---\n"
   ]
  },
  {
   "cell_type": "markdown",
   "metadata": {},
   "source": []
  }
 ],
 "metadata": {
  "kernelspec": {
   "display_name": "Python 3",
   "language": "python",
   "name": "python3"
  },
  "language_info": {
   "codemirror_mode": {
    "name": "ipython",
    "version": 3
   },
   "file_extension": ".py",
   "mimetype": "text/x-python",
   "name": "python",
   "nbconvert_exporter": "python",
   "pygments_lexer": "ipython3",
   "version": "3.12.2"
  }
 },
 "nbformat": 4,
 "nbformat_minor": 2
}
