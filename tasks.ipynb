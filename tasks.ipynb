{
 "cells": [
  {
   "cell_type": "markdown",
   "metadata": {},
   "source": [
    "# 🧮 Computational Theory - 2025 Assessment\n",
    "## 📁 `tasks.ipynb` - Computational Theory Notebook\n",
    "\n",
    "**Module:** Computational Theory  \n",
    "**Year:** 2025  \n",
    "**Author:** *James Doonan*  \n",
    "**Repository:** *https://github.com/JamesDoonan1/computational_theory*  \n",
    "**Submission Deadline:** 🗓 **Sunday, 4 May 2025**  \n",
    "\n",
    "---\n",
    "\n",
    "## 📜 **Assessment Overview**\n",
    "This Jupyter Notebook contains solutions to the **Computational Theory** assessment tasks. Each task is clearly labeled, documented, and implemented according to the **module requirements**.\n",
    "\n",
    "### 📑 **Contents**\n",
    "🔹 [Task 1: Binary Representations](#task-1-binary-representations)  \n",
    "🔹 [Task 2: Hash Functions](#task-2-hash-functions)  \n",
    "🔹 [Task 3: SHA256 Padding](#task-3-sha256-padding)  \n",
    "🔹 [Task 4: Prime Numbers](#task-4-prime-numbers)  \n",
    "🔹 [Task 5: Roots](#task-5-roots)  \n",
    "🔹 [Task 6: Proof of Work](#task-6-proof-of-work)  \n",
    "🔹 [Task 7: Turing Machine](#task-7-turing-machine)  \n",
    "🔹 [Task 8: Computational Complexity](#task-8-computational-complexity)  \n",
    "\n",
    "---\n",
    "\n",
    "## ⚡ **Instructions for this Notebook**\n",
    "- Each **task** is implemented in a separate section.\n",
    "- The notebook follows a **structured format**:\n",
    "  - **📌 Task Introduction:** Description of the problem.\n",
    "  - **📝 Code Implementation:** Python solutions with explanations.\n",
    "  - **🛠️ Testing & Validation:** Demonstrating correctness.\n",
    "- Code follows **PEP8 standards** for readability.\n",
    "- Markdown cells provide **explanations, research, and insights**.\n",
    "\n",
    "---\n"
   ]
  },
  {
   "cell_type": "markdown",
   "metadata": {},
   "source": [
    "# 🛠 Task 1: Binary Representations\n",
    "## 🔹 Rotations, Choice, and Majority Functions\n",
    "\n",
    "This task implements **bitwise operations** on **32-bit unsigned integers** commonly used in **cryptography**.\n",
    "\n",
    "### ✅ Functions Implemented:\n",
    "1. **`rotl(x, n=1)`** – Rotate bits **left**.\n",
    "2. **`rotr(x, n=1)`** – Rotate bits **right**.\n",
    "3. **`ch(x, y, z)`** – Bitwise choice function.\n",
    "4. **`maj(x, y, z)`** – Bitwise majority function.\n",
    "\n",
    "### 🔹 Key Considerations:\n",
    "- Operate within **32-bit unsigned integer space**.\n",
    "- **Use bitwise operators** (`&`, `|`, `^`, `~`).\n",
    "- Ensure results **wrap around correctly** using `& 0xFFFFFFFF`.\n",
    "\n",
    "---\n"
   ]
  },
  {
   "cell_type": "code",
   "execution_count": 1,
   "metadata": {},
   "outputs": [],
   "source": [
    "import os\n",
    "import struct"
   ]
  },
  {
   "cell_type": "code",
   "execution_count": 2,
   "metadata": {},
   "outputs": [
    {
     "name": "stdout",
     "output_type": "stream",
     "text": [
      "ROTL(0x12345678, 4) -> 0X23456781\n"
     ]
    }
   ],
   "source": [
    "# Function: Rotate left (ROTL)\n",
    "def rotl(x: int, n: int =1) -> int:\n",
    "    \"\"\"\n",
    "    Rotates a 32-bit integer left by n positions.  \n",
    "\n",
    "    Parameters:\n",
    "    x (int) : 32-bit integer to rotate  \n",
    "    n (int) : Number of positions to rotate left (default 1)  \n",
    "\n",
    "    Returns:\n",
    "    int : 32-bit integer rotated left by n positions\n",
    "\n",
    "    \"\"\"\n",
    "    return ((x << n) & 0xFFFFFFFF) | (x >> (32 - n))\n",
    "\n",
    "# Example Usage  \n",
    "example_value = 0x12345678 # example value to rotate\n",
    "rot1_result = rotl(example_value, 4) # rotate left by 4 positions\n",
    "print(f\"ROTL(0x12345678, 4) -> {rot1_result:#010X}\") # expected result: 0x23456781\n"
   ]
  },
  {
   "cell_type": "code",
   "execution_count": 3,
   "metadata": {},
   "outputs": [
    {
     "name": "stdout",
     "output_type": "stream",
     "text": [
      "ROTR(0x12345678, 4) -> 0X81234567\n"
     ]
    }
   ],
   "source": [
    "# Function: Rotate right (ROTR)\n",
    "def rotr(x: int, n: int =1) -> int:\n",
    "    \"\"\"\n",
    "    Rotates a 32-bit integer right by n positions.  \n",
    "\n",
    "    Parameters:\n",
    "    x (int) : 32-bit integer to rotate  \n",
    "    n (int) : Number of positions to rotate right (default: 1)  \n",
    "\n",
    "    Returns:\n",
    "    int : 32-bit integer rotated right by n positions\n",
    "\n",
    "    \"\"\"\n",
    "    return ((x >> n) | (x << (32 - n))) & 0xFFFFFFFF \n",
    "\n",
    "# Example Usage  \n",
    "example_value = 0x12345678 # example value to rotate\n",
    "rotr_result = rotr(example_value, 4) # rotate left by 4 positions\n",
    "print(f\"ROTR(0x12345678, 4) -> {rotr_result:#010X}\") # expected result: 0x23456781\n"
   ]
  },
  {
   "cell_type": "code",
   "execution_count": 4,
   "metadata": {},
   "outputs": [
    {
     "name": "stdout",
     "output_type": "stream",
     "text": [
      "CH(x, y, z) -> 00a5a5a5a5\n"
     ]
    }
   ],
   "source": [
    "def ch(x: int, y: int, z: int) -> int:\n",
    "    \"\"\"\n",
    "    Choice bits from y where x has bits set to 1,\n",
    "    and bits from z whee x has bits set to 0.  \n",
    "\n",
    "    Parameters:\n",
    "    x (int) : Control bits.  \n",
    "    y (int) : First input.  \n",
    "    z (int) : Second input.  \n",
    "\n",
    "    Returns:\n",
    "    int : The result of the choice operation.  \n",
    "\n",
    "    \"\"\"\n",
    "    return (x & y) ^ (~x & z) # If x is 1, take y, otherwise take z\n",
    "\n",
    "x = 0b10101010101010101010101010101010  # Binary control mask\n",
    "y = 0b11110000111100001111000011110000  # Option 1\n",
    "z = 0b00001111000011110000111100001111  # Option 2\n",
    "\n",
    "ch_result = ch(x, y, z)\n",
    "\n",
    "print(f\"CH(x, y, z) -> {ch_result:010x}\") # expected output: 00a5a5a5a5"
   ]
  },
  {
   "cell_type": "code",
   "execution_count": 5,
   "metadata": {},
   "outputs": [
    {
     "name": "stdout",
     "output_type": "stream",
     "text": [
      "MAJ(x, y, z) -> 0xaaaaaaaa\n"
     ]
    }
   ],
   "source": [
    "def maj(x: int, y: int, z: int) -> int:\n",
    "    \"\"\"\n",
    "    Majority bits from x, y, and z.  \n",
    "\n",
    "    Parameters:\n",
    "    x (int) : First input.  \n",
    "    y (int) : Second input.  \n",
    "    z (int) : Third input.  \n",
    "\n",
    "    Returns:\n",
    "    int : The result of the majority operation.  \n",
    "\n",
    "    \"\"\"\n",
    "    return (x & y) ^ (x & z) ^ (y & z) # Majority of bits\n",
    "\n",
    "# ✅ Example Usage\n",
    "x = 0b10101010101010101010101010101010  # Example binary value\n",
    "y = 0b11110000111100001111000011110000  # Example binary value\n",
    "z = 0b00001111000011110000111100001111  # Example binary value\n",
    "\n",
    "maj_result = maj(x, y, z)\n",
    "\n",
    "# Print results in hexadecimal format\n",
    "print(f\"MAJ(x, y, z) -> {maj_result:#010x}\") # expected output varies based on inputs\n"
   ]
  },
  {
   "cell_type": "markdown",
   "metadata": {},
   "source": [
    "# Task 2 Hash Functions  \n",
    "\n",
    "## Problem Statement  \n",
    "Convert the following **C-based hash function** into python, test it and analyze why **31 and *101 were used as constants.  \n",
    "\n",
    "### Given C Code:\n",
    "```c\n",
    "unsigned hash(char *s) {\n",
    "    unsigned hashval;\n",
    "    for (hashval = 0; *s != '\\0'; s++)\n",
    "        hashval = *s + 31 * hashval;\n",
    "    return hashval % 101;\n",
    "}\n"
   ]
  },
  {
   "cell_type": "code",
   "execution_count": 6,
   "metadata": {},
   "outputs": [
    {
     "name": "stdout",
     "output_type": "stream",
     "text": [
      "Hash'(hello) -> 17\n",
      "Hash'(world) -> 34\n",
      "Hash'(computational) -> 42\n",
      "Hash'(theory) -> 77\n",
      "Hash'(openai) -> 35\n"
     ]
    }
   ],
   "source": [
    "def kr_hash(s: str) -> int:\n",
    "    \"\"\"\n",
    "    Computes a hash for a given string using the method from \n",
    "    Kernighan and Ritchie's \"The C Programming Language\".  \n",
    "\n",
    "    Parameters:\n",
    "    s (str) : The input string.\n",
    "\n",
    "    Returns:\n",
    "    int : The computed hash value.\n",
    "    \"\"\"  \n",
    "    hashval = 0\n",
    "    for char in s:\n",
    "        hashval = ord(char) + 31 * hashval # Compute hash using ASCII values\n",
    "    return hashval % 101 # Return hash value modulo 101\n",
    "\n",
    "# Example Usage & Test\n",
    "test_strings = [\"hello\", \"world\", \"computational\", \"theory\", \"openai\"]\n",
    "for s in test_strings:\n",
    "    print(f\"Hash'({s}) -> {kr_hash(s)}\") \n"
   ]
  },
  {
   "cell_type": "markdown",
   "metadata": {},
   "source": [
    "## Why use `31` and `101` ?  \n",
    "The hash function in the C code follow a common pattern in hashing, using **prime numbers** to reduce collisions.  \n",
    "\n",
    "### **Why `31`?** \n",
    "- **Prime number**: Helps distribute hash value **evenly** across a range.  \n",
    "- **Efficient multiplication**:  `31` can be computed as ``(x << 5) - x`` (bit shift and subtraction).  \n",
    "- **Commonly used in string hashing** (e.g., Java uses `31` in it's `hashCode()` function). \n",
    "\n",
    "### **Why `101`?**  \n",
    "- **Prime modulus**: Helps ensure a more uniform distribution of hash values.  \n",
    "- **Prevents excessive collisions**: if `101` were a power of 2, the hash function might cause clustering.  \n",
    "\n",
    "Thus `31` and `101` work together to create an **efficient and well-distributed** hash function."
   ]
  },
  {
   "cell_type": "code",
   "execution_count": 7,
   "metadata": {},
   "outputs": [
    {
     "name": "stdout",
     "output_type": "stream",
     "text": [
      "✅ Test passed for 'hello' -> Hash: 17\n",
      "✅ Test passed for 'world' -> Hash: 34\n",
      "✅ Test passed for 'computational' -> Hash: 42\n",
      "✅ Test passed for 'theory' -> Hash: 77\n",
      "✅ Test passed for 'openai' -> Hash: 35\n"
     ]
    }
   ],
   "source": [
    "# Test Case Validation for task 2. \n",
    "def test_kr_hash():\n",
    "    \"\"\"\n",
    "    Run multiple test cases to verify the correctness of the hash function.  \n",
    "    \"\"\"\n",
    "    test_cases = {\n",
    "        \"hello\": kr_hash(\"hello\"),\n",
    "        \"world\": kr_hash(\"world\"),\n",
    "        \"computational\": kr_hash(\"computational\"),\n",
    "        \"theory\": kr_hash(\"theory\"),\n",
    "        \"openai\": kr_hash(\"openai\")\n",
    "    }\n",
    "    for key, expected in test_cases.items():\n",
    "        result = kr_hash(key)\n",
    "        assert result == expected, f\"Test Failed for: {key}: got {result}, expected {expected}\"\n",
    "        print(f\"✅ Test passed for '{key}' -> Hash: {result}\")\n",
    "\n",
    "# Run the test cases\n",
    "test_kr_hash() # All tests pass"
   ]
  },
  {
   "cell_type": "markdown",
   "metadata": {},
   "source": [
    "# 🛠 Task 3: SHA256 Padding\n",
    "## 🔹 Cryptographic padding in SHA256\n",
    "\n",
    "This task implements **SHAS256 passing scheme** which is a critical step in the SHA256 hashing algorithm. The padding makes sure that the input message meets the requirements for processing in 512-bit blocks.\n",
    "\n",
    "### ✅ Problem Statement:  \n",
    "Write a Python function that calculates the SHA256 padding for a given file.  \n",
    "The function should:\n",
    "1. Append a single **1** bit to the message.\n",
    "2. Append enough **0** bits so that the length of the padded message is congruent to 448 modulo 512.\n",
    "3. Append the original length of the message (in bits) as a 64-bit big-endian integer.\n",
    "4. Print the padding in hexadecimal format.\n",
    "\n",
    "### 🔹 Key Considerations:\n",
    "- The input file is read in **binary mode** to handle all types of files (text, images, etc.).\n",
    "- The padding must ensure that the total length of the message (including padding) is a multiple of 512 bits.\n",
    "- The original length of the message is appended as a **64-bit big-endian integer**.  \n",
    "\n",
    "---\n"
   ]
  },
  {
   "cell_type": "code",
   "execution_count": 8,
   "metadata": {},
   "outputs": [
    {
     "name": "stdout",
     "output_type": "stream",
     "text": [
      "SHA256 Padding for 'sample.txt': 800000000000000000000000000188\n"
     ]
    }
   ],
   "source": [
    "def sha256_padding(file_path: str):\n",
    "    \"\"\"\n",
    "    Calculate the SHA256 padding for a given file.\n",
    "\n",
    "    Parameters:\n",
    "    file_path (str): Path to the input file.\n",
    "\n",
    "    Returns:\n",
    "    str: The padding in hexadecimal format.\n",
    "    \"\"\"\n",
    "    # Step 1: Read the file as binary data\n",
    "    with open(file_path, \"rb\") as file:\n",
    "        message = file.read()\n",
    "\n",
    "    # Step 2: Calculate the original length of the data in bits\n",
    "    original_length = len(message) * 8\n",
    "\n",
    "    # Step 3: Append a single '1' bit to the message (0x80 in hex) \n",
    "    padded_message = message + b'\\x80'\n",
    "\n",
    "    # Step 4: Append '0' bits until the length in bits is 448 (mod 512)\n",
    "    padding_length = (448 - (len(padded_message) * 8) % 512) % 512\n",
    "    padded_message += b'\\x00' * (padding_length // 8)\n",
    "\n",
    "    # Step 5: Append the original length of the message in bits as a 64-bit big-endian integer\n",
    "    padded_message += struct.pack('>Q', original_length) \n",
    "\n",
    "    # Step 6: Return the padded message in hexadecimal format\n",
    "    padding = padded_message[len(message):]\n",
    "    return padding.hex()\n",
    "\n",
    "# Test the function with a sample file\n",
    "# Create a sample file if it does not exist\n",
    "file_path = \"sample.txt\"\n",
    "if not os.path.exists(file_path):\n",
    "    with open(file_path, \"w\") as file:\n",
    "        file.write(\"This is a sample file for testing SHA256 padding.\")\n",
    "\n",
    "# Calculate the SHA256 padding\n",
    "padding_hex = sha256_padding(file_path)\n",
    "print(f\"SHA256 Padding for '{file_path}': {padding_hex}\")"
   ]
  }
 ],
 "metadata": {
  "kernelspec": {
   "display_name": "Python 3",
   "language": "python",
   "name": "python3"
  },
  "language_info": {
   "codemirror_mode": {
    "name": "ipython",
    "version": 3
   },
   "file_extension": ".py",
   "mimetype": "text/x-python",
   "name": "python",
   "nbconvert_exporter": "python",
   "pygments_lexer": "ipython3",
   "version": "3.12.2"
  }
 },
 "nbformat": 4,
 "nbformat_minor": 2
}
