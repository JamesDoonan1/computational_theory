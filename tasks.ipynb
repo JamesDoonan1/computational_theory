{
 "cells": [
  {
   "cell_type": "markdown",
   "metadata": {},
   "source": [
    "# 🧮 Computational Theory - 2025 Assessment\n",
    "## 📁 `tasks.ipynb` - Computational Theory Notebook\n",
    "\n",
    "**Module:** Computational Theory  \n",
    "**Year:** 2025  \n",
    "**Author:** *James Doonan*  \n",
    "**Repository:** *https://github.com/JamesDoonan1/computational_theory*  \n",
    "**Submission Deadline:** 🗓 **Sunday, 4 May 2025**  \n",
    "\n",
    "---\n",
    "\n",
    "## 📜 **Assessment Overview**\n",
    "This Jupyter Notebook contains solutions to the **Computational Theory** assessment tasks. Each task is clearly labeled, documented, and implemented according to the **module requirements**.\n",
    "\n",
    "### 📑 **Contents**\n",
    "🔹 [Task 1: Binary Representations](#task-1-binary-representations)  \n",
    "🔹 [Task 2: Hash Functions](#task-2-hash-functions)  \n",
    "🔹 [Task 3: SHA256 Padding](#task-3-sha256-padding)  \n",
    "🔹 [Task 4: Prime Numbers](#task-4-prime-numbers)  \n",
    "🔹 [Task 5: Roots](#task-5-roots)  \n",
    "🔹 [Task 6: Proof of Work](#task-6-proof-of-work)  \n",
    "🔹 [Task 7: Turing Machine](#task-7-turing-machine)  \n",
    "🔹 [Task 8: Computational Complexity](#task-8-computational-complexity)  \n",
    "\n",
    "---\n",
    "\n",
    "## ⚡ **Instructions for this Notebook**\n",
    "- Each **task** is implemented in a separate section.\n",
    "- The notebook follows a **structured format**:\n",
    "  - **📌 Task Introduction:** Description of the problem.\n",
    "  - **📝 Code Implementation:** Python solutions with explanations.\n",
    "  - **🛠️ Testing & Validation:** Demonstrating correctness.\n",
    "- Code follows **PEP8 standards** for readability.\n",
    "- Markdown cells provide **explanations, research, and insights**.\n",
    "\n",
    "---\n",
    "\n",
    "🚀 **Let's begin!**  \n",
    "---\n"
   ]
  },
  {
   "cell_type": "markdown",
   "metadata": {},
   "source": []
  }
 ],
 "metadata": {
  "language_info": {
   "name": "python"
  }
 },
 "nbformat": 4,
 "nbformat_minor": 2
}
